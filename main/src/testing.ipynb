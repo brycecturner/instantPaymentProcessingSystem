{
 "cells": [
  {
   "cell_type": "code",
   "execution_count": 19,
   "metadata": {},
   "outputs": [],
   "source": [
    "from pyspark.sql import SparkSession, types\n",
    "from pyspark.sql.functions import *\n",
    "import pyspark\n",
    "import json\n",
    "import os\n",
    "from delta.tables import *\n",
    "from delta import *\n",
    "import pandas as pd"
   ]
  },
  {
   "cell_type": "code",
   "execution_count": 20,
   "metadata": {},
   "outputs": [],
   "source": [
    "from transaction import *\n",
    "from user import *"
   ]
  },
  {
   "cell_type": "code",
   "execution_count": 21,
   "metadata": {},
   "outputs": [],
   "source": [
    "spark = (SparkSession\n",
    "         .builder\n",
    "         .appName(\"firstTest\")\n",
    "         .config('spark.jars.packages', \"io.delta:delta-core_2.12:2.3.0,io.delta:delta-storage:2.3.0,org.apache.spark:spark-sql-kafka-0-10_2.12:3.4.0\")\n",
    "         .config('spark.sql.extension', 'io.delta.sql.DeltaSparkSessionExtension')\n",
    "         .config(\"spark.sql.catalog.spark_catalog\", \"org.apache.spark.sql.delta.catalog.DeltaCatalog\")\n",
    "         .enableHiveSupport()\n",
    "         .getOrCreate())\n",
    "\n",
    "spark.sql(\"set spark.sql.legacy.timeParserPolicy=LEGACY\")"
   ]
  },
  {
   "cell_type": "code",
   "execution_count": 22,
   "metadata": {},
   "outputs": [],
   "source": [
    "data = spark.read.format('csv').option('header', 'true').load(\"../data/dummy_bank_data.csv\").withColumn('timestamp', col('timeStamp').cast(types.LongType()))\n",
    "\n",
    "data.show(3)"
   ]
  },
  {
   "cell_type": "code",
   "execution_count": 23,
   "metadata": {},
   "outputs": [],
   "source": [
    "data.write.format('delta').mode('overwrite').save(\"/home/bcturner/instantPaymentProcessingSystem/main/data/dummy_delta_data\")\n",
    "\n",
    "#deltaTable = DeltaTable.forPath(spark, \"/home/bcturner/instantPaymentProcessingSystem/main/data/dummy_delta_data\")"
   ]
  },
  {
   "cell_type": "code",
   "execution_count": 24,
   "metadata": {},
   "outputs": [],
   "source": [
    "tmp = user('001', \"002\")\n",
    "tmp.initiate_interbank_transaction()\n",
    "tmp.active_transaction.set_recipient_details('00003', \"00005\")\n",
    "tmp.active_transaction.set_dollar_value(2015)\n",
    "tmp.active_transaction.generate_kafka_message()\n",
    "sample_message = tmp.active_transaction.send_kafka_message()\n",
    "sample_message"
   ]
  },
  {
   "cell_type": "code",
   "execution_count": 27,
   "metadata": {},
   "outputs": [],
   "source": [
    "existing_data = \\\n",
    "    (spark.read.format('delta')\n",
    "        .load(\"/home/bcturner/instantPaymentProcessingSystem/main/data/dummy_delta_data\")\n",
    "    )\n",
    "\n",
    "existing_data.show()"
   ]
  },
  {
   "cell_type": "code",
   "execution_count": 26,
   "metadata": {},
   "outputs": [],
   "source": [
    "input_stream = (\n",
    "    spark\n",
    "    .readStream \n",
    "    .format('kafka')\n",
    "    .option('kafka.bootstrap.servers', 'localhost:9092')\n",
    "    .option('subscribe', 'central_topic')\n",
    "    .option('earliestOffset', 'latest')\n",
    "    .load()\n",
    "    .selectExpr(\"CAST (value AS STRING)\", \n",
    "                \"CAST (timestamp AS STRING)\")\n",
    "    #Parse Kafka Message\n",
    "    .select(\n",
    "        split(col('value'), \",\").getItem(0).alias(\"sendingTimestamp\"),\n",
    "        split(col('value'), \",\").getItem(1).alias(\"sendingInstitutionId\"),\n",
    "        split(col('value'), \",\").getItem(2).alias(\"sendingUserId\"),\n",
    "        split(col('value'), \",\").getItem(3).alias(\"receivingInstitutionId\"),\n",
    "        split(col('value'), \",\").getItem(4).alias(\"receivingUserId\"),\n",
    "        split(col('value'), \",\").getItem(5).alias(\"dollarValue\"),\n",
    "        unix_timestamp(col('timestamp')).alias('kafkaTimestamp'))\n",
    "    #Convert Sending Info to Note\n",
    "    .withColumn('note',\n",
    "             concat(lit('Sent via IPPS from '),\n",
    "                    col(\"sendingInstitutionId\"),\n",
    "                    lit(' -- '), \n",
    "                    col(\"sendingUserId\"),\n",
    "                    lit(' at '),\n",
    "                    col('sendingTimestamp')\n",
    "                   ).alias('sender') \n",
    "              )\n",
    "    #Rename Rename ot make \n",
    "         .select(\n",
    "             col('receivingInstitutionId').alias('institutionId'), \n",
    "             col(\"receivingUserId\").alias(\"userId\"), \n",
    "             col(\"dollarValue\").alias('netChange'), \n",
    "             col('kafkaTimestamp').cast(types.LongType()).alias('timestamp'),\n",
    "             \"note\"\n",
    "    )\n",
    "    #Append to Delta Data\n",
    "    .writeStream\n",
    "    .format('delta')\n",
    "    .outputMode('append')\n",
    "    .option('checkpointLocation', \"/home/bcturner/instantPaymentProcessingSystem/main/data/dummy_delta_data\")\n",
    "    .start(\"/home/bcturner/instantPaymentProcessingSystem/main/data/dummy_delta_data\")\n",
    "   \n",
    ")"
   ]
  },
  {
   "cell_type": "code",
   "execution_count": null,
   "metadata": {},
   "outputs": [],
   "source": [
    "+-------------+------+---------+----------+----------------+\n",
    "|institutionId|userId|netChange| timestamp|            note|\n",
    "+-------------+------+---------+----------+----------------+\n",
    "|       000001| 00001|        0|1683256559|Initial Transfer|\n",
    "|       000001| 00002|      100|1683256559|Initial Transfer|\n",
    "+-------------+------+---------+----------+----------------+"
   ]
  },
  {
   "cell_type": "code",
   "execution_count": null,
   "metadata": {},
   "outputs": [],
   "source": [
    "def update_table_from_ipps(input_stream, batch_id):\n",
    "    print(f'processing batchId; {batch_id}')\n",
    "    \n",
    "    existing_data = (\n",
    "        spark.read.format('delta')\n",
    "        .load(\"/home/bcturner/instantPaymentProcessingSystem/main/data/dummy_delta_data\")\n",
    "        .withColumn('recentTime', max(\"timestamp\").over(Window.partitionBy('userId'))) \n",
    "    )\n",
    "    \n",
    "    (input_stream\n",
    "           #Join with Existing Data to Find Current Status of Account\n",
    "         .join(existing_data, col('receivingUserId')==existing_data.userId, 'inner')\n",
    "\n",
    "           #Table Off Results to Match\n",
    "         .withColumn('note',\n",
    "             concat(lit('Sent via IPPS from '),\n",
    "                    col(\"sendingInstitutionId\"),\n",
    "                    lit(' -- '), \n",
    "                    col(\"sendingUserId\"),\n",
    "                    lit(' at '),\n",
    "                    col('sendingTimestamp')\n",
    "                   ).alias('sender') \n",
    "              )\n",
    "         .withColumn('value', col('value') + col('dollarValue'))\n",
    "         .select(\n",
    "             'institutionId', \"userId\", \"value\", col(\"dollarValue\").alias('netChange'),\n",
    "             \"note\", col('kafkaTimestamp').alias('timestamp')\n",
    "         )\n",
    "     \n",
    "    )"
   ]
  },
  {
   "cell_type": "code",
   "execution_count": null,
   "metadata": {},
   "outputs": [],
   "source": []
  },
  {
   "cell_type": "code",
   "execution_count": null,
   "metadata": {},
   "outputs": [],
   "source": [
    "columns = ['institutionId', 'userId', 'value', 'netChange', 'timestamp', 'note']\n",
    "new_data = spark.createDataFrame([('000001', '00001', '3015', '1000', '1683256559.124', '')], columns)\n",
    "\n",
    "#data.show()\n",
    "final_data = data.union(new_data)\n",
    "\n",
    "# (new_data.write\n",
    "#      .format('delta')\n",
    "#      .mode('append')\n",
    "#      .option(\"mergeSchema\", \"true\")\n",
    "#      .save(\"/home/bcturner/instantPaymentProcessingSystem/main/data/dummy_delta_data\")\n",
    "# )"
   ]
  },
  {
   "cell_type": "code",
   "execution_count": null,
   "metadata": {},
   "outputs": [],
   "source": []
  }
 ],
 "metadata": {
  "kernelspec": {
   "display_name": "Python 3 (ipykernel)",
   "language": "python",
   "name": "python3"
  },
  "language_info": {
   "codemirror_mode": {
    "name": "ipython",
    "version": 3
   },
   "file_extension": ".py",
   "mimetype": "text/x-python",
   "name": "python",
   "nbconvert_exporter": "python",
   "pygments_lexer": "ipython3",
   "version": "3.10.6"
  }
 },
 "nbformat": 4,
 "nbformat_minor": 2
}
