{
 "cells": [
  {
   "cell_type": "code",
   "execution_count": 1,
   "id": "043a1f16",
   "metadata": {},
   "outputs": [],
   "source": [
    "from pyspark.sql import SparkSession, types\n",
    "from pyspark.sql.functions import *\n",
    "import pyspark\n",
    "from delta.tables import *\n",
    "from delta import *\n"
   ]
  },
  {
   "cell_type": "code",
   "execution_count": 2,
   "id": "ca0c0d3e",
   "metadata": {},
   "outputs": [
    {
     "name": "stdout",
     "output_type": "stream",
     "text": [
      "23/05/07 10:33:02 WARN SparkSession: Using an existing Spark session; only runtime SQL configurations will take effect.\n"
     ]
    }
   ],
   "source": [
    "spark = (SparkSession\n",
    "         .builder\n",
    "         .appName(\"bank_monitoring\")\n",
    "         .config('spark.jars.packages', \"io.delta:delta-core_2.12:2.3.0,io.delta:delta-storage:2.3.0,org.apache.spark:spark-sql-kafka-0-10_2.12:3.3.0\")\n",
    "         .config('spark.sql.extension', 'io.delta.sql.DeltaSparkSessionExtension')\n",
    "         .config(\"spark.sql.catalog.spark_catalog\", \"org.apache.spark.sql.delta.catalog.DeltaCatalog\")\n",
    "         .enableHiveSupport()\n",
    "         .getOrCreate())\n"
   ]
  },
  {
   "cell_type": "code",
   "execution_count": null,
   "id": "2b56391f",
   "metadata": {},
   "outputs": [],
   "source": [
    "# .writeStream\n",
    "#     .format('delta')\n",
    "#     .outputMode('append')\n",
    "#     .option('checkpointLocation', \"/home/bcturner/instantPaymentProcessingSystem/main/data/dummy_delta_data\")\n",
    "#     .start(\"/home/bcturner/instantPaymentProcessingSystem/main/data/dummy_delta_data\")\n",
    "#     .awaitTermination()\n",
    "   "
   ]
  },
  {
   "cell_type": "code",
   "execution_count": 5,
   "id": "6d3495e1",
   "metadata": {},
   "outputs": [
    {
     "name": "stdout",
     "output_type": "stream",
     "text": [
      "23/05/07 10:39:06 WARN ResolveWriteToStream: Temporary checkpoint location created which is deleted normally when the query didn't fail: /tmp/temporary-faf29fee-464d-4b7d-9f7a-583b69d05ea9. If it's required to delete it under any circumstances, please set spark.sql.streaming.forceDeleteTempCheckpointLocation to true. Important to know deleting temp checkpoint folder is best effort.\n",
      "23/05/07 10:39:06 WARN ResolveWriteToStream: spark.sql.adaptive.enabled is not supported in streaming DataFrames/Datasets and will be disabled.\n",
      "23/05/07 10:39:08 WARN package: Truncated the string representation of a plan since it was too large. This behavior can be adjusted by setting 'spark.sql.debug.maxToStringFields'.\n"
     ]
    },
    {
     "name": "stderr",
     "output_type": "stream",
     "text": [
      "                                                                                \r"
     ]
    },
    {
     "name": "stdout",
     "output_type": "stream",
     "text": [
      "-------------------------------------------\n",
      "Batch: 0\n",
      "-------------------------------------------\n",
      "+-------------+------+---------+----------+--------------------+\n",
      "|institutionId|userId|netChange| timestamp|                note|\n",
      "+-------------+------+---------+----------+--------------------+\n",
      "|         0003|    01|        3|1683336844|Sent via IPPS fro...|\n",
      "|       000001| 00001|        0|1683256559|    Initial Transfer|\n",
      "|       000001| 00002|      100|1683256559|    Initial Transfer|\n",
      "|          005|    01|      100|1683336883|Sent via IPPS fro...|\n",
      "+-------------+------+---------+----------+--------------------+\n",
      "\n",
      "-------------------------------------------\n",
      "Batch: 1\n",
      "-------------------------------------------\n",
      "+-------------+------+---------+---------+----+\n",
      "|institutionId|userId|netChange|timestamp|note|\n",
      "+-------------+------+---------+---------+----+\n",
      "+-------------+------+---------+---------+----+\n",
      "\n",
      "-------------------------------------------\n",
      "Batch: 2\n",
      "-------------------------------------------\n",
      "+-------------+------+---------+---------+----+\n",
      "|institutionId|userId|netChange|timestamp|note|\n",
      "+-------------+------+---------+---------+----+\n",
      "+-------------+------+---------+---------+----+\n",
      "\n"
     ]
    }
   ],
   "source": [
    "input_stream = (\n",
    "    spark.readStream\n",
    "    .format('delta')\n",
    "    .load(\"/home/bcturner/instantPaymentProcessingSystem/main/data/dummy_delta_data\")\n",
    "    \n",
    "    .writeStream\n",
    "    .format('console')\n",
    "    .trigger(processingTime=)\n",
    "    .start()\n",
    ")"
   ]
  },
  {
   "cell_type": "code",
   "execution_count": null,
   "id": "87f29fee",
   "metadata": {},
   "outputs": [],
   "source": []
  }
 ],
 "metadata": {
  "kernelspec": {
   "display_name": "Python 3 (ipykernel)",
   "language": "python",
   "name": "python3"
  },
  "language_info": {
   "codemirror_mode": {
    "name": "ipython",
    "version": 3
   },
   "file_extension": ".py",
   "mimetype": "text/x-python",
   "name": "python",
   "nbconvert_exporter": "python",
   "pygments_lexer": "ipython3",
   "version": "3.10.6"
  }
 },
 "nbformat": 4,
 "nbformat_minor": 5
}
