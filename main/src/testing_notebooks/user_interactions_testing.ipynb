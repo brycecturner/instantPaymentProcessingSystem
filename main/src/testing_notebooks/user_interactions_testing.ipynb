{
 "cells": [
  {
   "cell_type": "code",
   "execution_count": 4,
   "id": "5b3d6a0b",
   "metadata": {},
   "outputs": [],
   "source": [
    "from transaction import transaction\n",
    "from user import user\n",
    "from faker import Faker\n",
    "import time\n",
    "fake = Faker()"
   ]
  },
  {
   "cell_type": "code",
   "execution_count": 8,
   "id": "690a7217",
   "metadata": {},
   "outputs": [],
   "source": [
    "for i in range(800):\n",
    "    receiving_inst = '0001'\n",
    "    receiving_user = fake.random_int(min=1, max=1000000000000)\n",
    "    dollar_value = fake.random_int(min=0, max=100000)\n",
    "\n",
    "\n",
    "    tmp = user('00005', '00003')\n",
    "    tmp.initiate_interbank_transaction()\n",
    "    tmp.active_transaction.set_recipient_details(receiving_inst,receiving_user)\n",
    "    tmp.active_transaction.set_dollar_value(dollar_value)\n",
    "    tmp.accept_transaction_details()\n",
    "    tmp.produce_message_to_kafka()\n",
    "    \n",
    "    time.sleep(1)"
   ]
  },
  {
   "cell_type": "code",
   "execution_count": null,
   "id": "e2ea1eb7",
   "metadata": {},
   "outputs": [],
   "source": [
    "from "
   ]
  }
 ],
 "metadata": {
  "kernelspec": {
   "display_name": "Python 3 (ipykernel)",
   "language": "python",
   "name": "python3"
  },
  "language_info": {
   "codemirror_mode": {
    "name": "ipython",
    "version": 3
   },
   "file_extension": ".py",
   "mimetype": "text/x-python",
   "name": "python",
   "nbconvert_exporter": "python",
   "pygments_lexer": "ipython3",
   "version": "3.10.6"
  }
 },
 "nbformat": 4,
 "nbformat_minor": 5
}
